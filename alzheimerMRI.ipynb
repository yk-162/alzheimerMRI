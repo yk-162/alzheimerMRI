{
  "nbformat": 4,
  "nbformat_minor": 0,
  "metadata": {
    "colab": {
      "provenance": [],
      "authorship_tag": "ABX9TyMH6Ux7uOHji0F7umkSL4pp",
      "include_colab_link": true
    },
    "kernelspec": {
      "name": "python3",
      "display_name": "Python 3"
    },
    "language_info": {
      "name": "python"
    }
  },
  "cells": [
    {
      "cell_type": "markdown",
      "metadata": {
        "id": "view-in-github",
        "colab_type": "text"
      },
      "source": [
        "<a href=\"https://colab.research.google.com/github/yk-162/alzheimerMRI/blob/main/alzheimerMRI.ipynb\" target=\"_parent\"><img src=\"https://colab.research.google.com/assets/colab-badge.svg\" alt=\"Open In Colab\"/></a>"
      ]
    },
    {
      "cell_type": "code",
      "execution_count": 1,
      "metadata": {
        "colab": {
          "base_uri": "https://localhost:8080/",
          "height": 90
        },
        "id": "IeCgMiosdqyg",
        "outputId": "9b3f8b8c-6c25-42bc-8fe0-50dc63ff5cfd"
      },
      "outputs": [
        {
          "output_type": "display_data",
          "data": {
            "text/plain": [
              "<IPython.core.display.HTML object>"
            ],
            "text/html": [
              "\n",
              "     <input type=\"file\" id=\"files-363851e0-b7eb-43ef-af78-719d9989b660\" name=\"files[]\" multiple disabled\n",
              "        style=\"border:none\" />\n",
              "     <output id=\"result-363851e0-b7eb-43ef-af78-719d9989b660\">\n",
              "      Upload widget is only available when the cell has been executed in the\n",
              "      current browser session. Please rerun this cell to enable.\n",
              "      </output>\n",
              "      <script>// Copyright 2017 Google LLC\n",
              "//\n",
              "// Licensed under the Apache License, Version 2.0 (the \"License\");\n",
              "// you may not use this file except in compliance with the License.\n",
              "// You may obtain a copy of the License at\n",
              "//\n",
              "//      http://www.apache.org/licenses/LICENSE-2.0\n",
              "//\n",
              "// Unless required by applicable law or agreed to in writing, software\n",
              "// distributed under the License is distributed on an \"AS IS\" BASIS,\n",
              "// WITHOUT WARRANTIES OR CONDITIONS OF ANY KIND, either express or implied.\n",
              "// See the License for the specific language governing permissions and\n",
              "// limitations under the License.\n",
              "\n",
              "/**\n",
              " * @fileoverview Helpers for google.colab Python module.\n",
              " */\n",
              "(function(scope) {\n",
              "function span(text, styleAttributes = {}) {\n",
              "  const element = document.createElement('span');\n",
              "  element.textContent = text;\n",
              "  for (const key of Object.keys(styleAttributes)) {\n",
              "    element.style[key] = styleAttributes[key];\n",
              "  }\n",
              "  return element;\n",
              "}\n",
              "\n",
              "// Max number of bytes which will be uploaded at a time.\n",
              "const MAX_PAYLOAD_SIZE = 100 * 1024;\n",
              "\n",
              "function _uploadFiles(inputId, outputId) {\n",
              "  const steps = uploadFilesStep(inputId, outputId);\n",
              "  const outputElement = document.getElementById(outputId);\n",
              "  // Cache steps on the outputElement to make it available for the next call\n",
              "  // to uploadFilesContinue from Python.\n",
              "  outputElement.steps = steps;\n",
              "\n",
              "  return _uploadFilesContinue(outputId);\n",
              "}\n",
              "\n",
              "// This is roughly an async generator (not supported in the browser yet),\n",
              "// where there are multiple asynchronous steps and the Python side is going\n",
              "// to poll for completion of each step.\n",
              "// This uses a Promise to block the python side on completion of each step,\n",
              "// then passes the result of the previous step as the input to the next step.\n",
              "function _uploadFilesContinue(outputId) {\n",
              "  const outputElement = document.getElementById(outputId);\n",
              "  const steps = outputElement.steps;\n",
              "\n",
              "  const next = steps.next(outputElement.lastPromiseValue);\n",
              "  return Promise.resolve(next.value.promise).then((value) => {\n",
              "    // Cache the last promise value to make it available to the next\n",
              "    // step of the generator.\n",
              "    outputElement.lastPromiseValue = value;\n",
              "    return next.value.response;\n",
              "  });\n",
              "}\n",
              "\n",
              "/**\n",
              " * Generator function which is called between each async step of the upload\n",
              " * process.\n",
              " * @param {string} inputId Element ID of the input file picker element.\n",
              " * @param {string} outputId Element ID of the output display.\n",
              " * @return {!Iterable<!Object>} Iterable of next steps.\n",
              " */\n",
              "function* uploadFilesStep(inputId, outputId) {\n",
              "  const inputElement = document.getElementById(inputId);\n",
              "  inputElement.disabled = false;\n",
              "\n",
              "  const outputElement = document.getElementById(outputId);\n",
              "  outputElement.innerHTML = '';\n",
              "\n",
              "  const pickedPromise = new Promise((resolve) => {\n",
              "    inputElement.addEventListener('change', (e) => {\n",
              "      resolve(e.target.files);\n",
              "    });\n",
              "  });\n",
              "\n",
              "  const cancel = document.createElement('button');\n",
              "  inputElement.parentElement.appendChild(cancel);\n",
              "  cancel.textContent = 'Cancel upload';\n",
              "  const cancelPromise = new Promise((resolve) => {\n",
              "    cancel.onclick = () => {\n",
              "      resolve(null);\n",
              "    };\n",
              "  });\n",
              "\n",
              "  // Wait for the user to pick the files.\n",
              "  const files = yield {\n",
              "    promise: Promise.race([pickedPromise, cancelPromise]),\n",
              "    response: {\n",
              "      action: 'starting',\n",
              "    }\n",
              "  };\n",
              "\n",
              "  cancel.remove();\n",
              "\n",
              "  // Disable the input element since further picks are not allowed.\n",
              "  inputElement.disabled = true;\n",
              "\n",
              "  if (!files) {\n",
              "    return {\n",
              "      response: {\n",
              "        action: 'complete',\n",
              "      }\n",
              "    };\n",
              "  }\n",
              "\n",
              "  for (const file of files) {\n",
              "    const li = document.createElement('li');\n",
              "    li.append(span(file.name, {fontWeight: 'bold'}));\n",
              "    li.append(span(\n",
              "        `(${file.type || 'n/a'}) - ${file.size} bytes, ` +\n",
              "        `last modified: ${\n",
              "            file.lastModifiedDate ? file.lastModifiedDate.toLocaleDateString() :\n",
              "                                    'n/a'} - `));\n",
              "    const percent = span('0% done');\n",
              "    li.appendChild(percent);\n",
              "\n",
              "    outputElement.appendChild(li);\n",
              "\n",
              "    const fileDataPromise = new Promise((resolve) => {\n",
              "      const reader = new FileReader();\n",
              "      reader.onload = (e) => {\n",
              "        resolve(e.target.result);\n",
              "      };\n",
              "      reader.readAsArrayBuffer(file);\n",
              "    });\n",
              "    // Wait for the data to be ready.\n",
              "    let fileData = yield {\n",
              "      promise: fileDataPromise,\n",
              "      response: {\n",
              "        action: 'continue',\n",
              "      }\n",
              "    };\n",
              "\n",
              "    // Use a chunked sending to avoid message size limits. See b/62115660.\n",
              "    let position = 0;\n",
              "    do {\n",
              "      const length = Math.min(fileData.byteLength - position, MAX_PAYLOAD_SIZE);\n",
              "      const chunk = new Uint8Array(fileData, position, length);\n",
              "      position += length;\n",
              "\n",
              "      const base64 = btoa(String.fromCharCode.apply(null, chunk));\n",
              "      yield {\n",
              "        response: {\n",
              "          action: 'append',\n",
              "          file: file.name,\n",
              "          data: base64,\n",
              "        },\n",
              "      };\n",
              "\n",
              "      let percentDone = fileData.byteLength === 0 ?\n",
              "          100 :\n",
              "          Math.round((position / fileData.byteLength) * 100);\n",
              "      percent.textContent = `${percentDone}% done`;\n",
              "\n",
              "    } while (position < fileData.byteLength);\n",
              "  }\n",
              "\n",
              "  // All done.\n",
              "  yield {\n",
              "    response: {\n",
              "      action: 'complete',\n",
              "    }\n",
              "  };\n",
              "}\n",
              "\n",
              "scope.google = scope.google || {};\n",
              "scope.google.colab = scope.google.colab || {};\n",
              "scope.google.colab._files = {\n",
              "  _uploadFiles,\n",
              "  _uploadFilesContinue,\n",
              "};\n",
              "})(self);\n",
              "</script> "
            ]
          },
          "metadata": {}
        },
        {
          "output_type": "stream",
          "name": "stdout",
          "text": [
            "Saving kaggle.json to kaggle (2).json\n",
            "kaggle.json\n"
          ]
        }
      ],
      "source": [
        "from google.colab import files\n",
        "files.upload() #upload kaggle.json\n",
        "\n",
        "!mkdir -p ~/.kaggle\n",
        "!cp kaggle.json ~/.kaggle/\n",
        "!ls ~/.kaggle\n",
        "!chmod 600 ~/.kaggle/kaggle.json"
      ]
    },
    {
      "cell_type": "code",
      "source": [
        "# download dataset from kaggle\n",
        "!kaggle datasets download -d sachinkumar413/alzheimer-mri-dataset"
      ],
      "metadata": {
        "colab": {
          "base_uri": "https://localhost:8080/"
        },
        "id": "gODPmtMhd86a",
        "outputId": "4dab3962-0f64-42dc-9c8d-fcf868b1a916"
      },
      "execution_count": 2,
      "outputs": [
        {
          "output_type": "stream",
          "name": "stdout",
          "text": [
            "Dataset URL: https://www.kaggle.com/datasets/sachinkumar413/alzheimer-mri-dataset\n",
            "License(s): copyright-authors\n",
            "alzheimer-mri-dataset.zip: Skipping, found more recently modified local copy (use --force to force download)\n"
          ]
        }
      ]
    },
    {
      "cell_type": "code",
      "source": [
        "import zipfile\n",
        "\n",
        "with zipfile.ZipFile('/content/alzheimer-mri-dataset.zip', 'r') as zip_ref:\n",
        "    zip_ref.extractall('/content/alzheimer-mri-dataset')"
      ],
      "metadata": {
        "id": "BsWKdA_gd8RW"
      },
      "execution_count": 3,
      "outputs": []
    },
    {
      "cell_type": "code",
      "source": [
        "# import libraries\n",
        "\n",
        "import os\n",
        "import torch\n",
        "import torch.nn as nn\n",
        "from torch import optim\n",
        "from torchvision import transforms\n",
        "from torch.utils.data import DataLoader, random_split\n",
        "from torchvision.datasets import ImageFolder\n",
        "import matplotlib.pyplot as plt\n",
        "import time"
      ],
      "metadata": {
        "id": "fiPPVNnegZYa"
      },
      "execution_count": 4,
      "outputs": []
    },
    {
      "cell_type": "code",
      "source": [
        "# load datasets\n",
        "\n",
        "DATA_SET_PATH = r'/content/alzheimer-mri-dataset/Dataset'\n",
        "categories=os.listdir(DATA_SET_PATH)\n",
        "\n",
        "data_transform = transforms.Compose([\n",
        "    transforms.ToTensor(),\n",
        "    transforms.Normalize((0.5, 0.5, 0.5), (0.5, 0.5, 0.5))\n",
        "])\n",
        "\n",
        "data = ImageFolder(DATA_SET_PATH, transform=data_transform)"
      ],
      "metadata": {
        "id": "_QBe40Q0geYX"
      },
      "execution_count": 5,
      "outputs": []
    },
    {
      "cell_type": "code",
      "source": [
        "# splitting datasets into training, testing and validation\n",
        "\n",
        "n = len(data)\n",
        "n_test = int(n * 0.2)  # 20% for test\n",
        "n_train = n - n_test  # 80% for train\n",
        "n_val = int(n_test * 0.5)  # 10% for validation (50% from test)\n",
        "train_data, test_data = random_split(data, [n_train, n_test], torch.Generator().manual_seed(75))\n",
        "test_data, val_data = random_split(test_data, [n_val, n_val], torch.Generator().manual_seed(75))\n",
        "\n",
        "batch_size = 128\n",
        "trainloader = DataLoader(train_data, batch_size=batch_size, shuffle=True)\n",
        "testloader = DataLoader(test_data, batch_size=batch_size, shuffle=False)\n",
        "valloader = DataLoader(val_data, batch_size=batch_size, shuffle=False)"
      ],
      "metadata": {
        "id": "Og4uuywjgsvD"
      },
      "execution_count": 6,
      "outputs": []
    },
    {
      "cell_type": "code",
      "source": [
        "# build CNN model\n",
        "# convolutional layer to extract features from the image at input layer\n",
        "# pooling layer to speed up the processing of the model (by compressing data)\n",
        "# fully connected layers to get the predictions about the images with their categories\n",
        "\n",
        "class ConvNet(nn.Module):\n",
        "    def __init__(self):\n",
        "        super(ConvNet, self).__init__()\n",
        "        self.conv1 = nn.Sequential(\n",
        "            nn.Conv2d(3, 16, 3, padding=1),\n",
        "            nn.ReLU(),\n",
        "            nn.MaxPool2d(2, 2)\n",
        "        )\n",
        "        self.conv2 = nn.Sequential(\n",
        "            nn.Conv2d(16, 32, 3, padding=1),\n",
        "            nn.ReLU(),\n",
        "            nn.MaxPool2d(2, 2)\n",
        "        )\n",
        "        self.conv3 = nn.Sequential(\n",
        "            nn.Conv2d(32, 64, 3, padding=1),\n",
        "            nn.ReLU(),\n",
        "            nn.MaxPool2d(2, 2)\n",
        "        )\n",
        "        self.conv4 = nn.Sequential(\n",
        "            nn.Conv2d(64, 128, 3, padding=1),\n",
        "            nn.ReLU(),\n",
        "            nn.MaxPool2d(2, 2)\n",
        "        )\n",
        "\n",
        "        self.dropout = nn.Dropout(0.5)\n",
        "\n",
        "        self.flatten = nn.Flatten()\n",
        "\n",
        "        self.fc1 = nn.Sequential(\n",
        "            nn.Linear(128 * 8 * 8, 32),\n",
        "            nn.ReLU()\n",
        "        )\n",
        "\n",
        "        self.fc2 = nn.Linear(32, 4)\n",
        "\n",
        "    def forward(self, x):\n",
        "        x = self.conv1(x)\n",
        "        x = self.conv2(x)\n",
        "        x = self.conv3(x)\n",
        "        x = self.conv4(x)\n",
        "        x = self.dropout(x)\n",
        "        x = self.flatten(x)\n",
        "        x = self.fc1(x)\n",
        "        x = self.fc2(x)\n",
        "        #x = F.log_softmax(x, dim=1)\n",
        "        #x = F.softmax(x, dim=1)\n",
        "        return x"
      ],
      "metadata": {
        "id": "xsFNXQd4gw4v"
      },
      "execution_count": 7,
      "outputs": []
    },
    {
      "cell_type": "code",
      "source": [
        "model = ConvNet()\n",
        "# print(summary(model, (3, 128, 128)))"
      ],
      "metadata": {
        "id": "mZL5TWcLg12Z"
      },
      "execution_count": 8,
      "outputs": []
    },
    {
      "cell_type": "code",
      "source": [
        "# optimizer and loss function\n",
        "\n",
        "optimizer = optim.Adam(model.parameters(), lr=0.001)\n",
        "loss_func = nn.CrossEntropyLoss()"
      ],
      "metadata": {
        "id": "7E5Ca-fgg7as"
      },
      "execution_count": 9,
      "outputs": []
    },
    {
      "cell_type": "code",
      "source": [
        "# train the model\n",
        "train_losses = []\n",
        "val_losses = []\n",
        "train_accuracies = []\n",
        "val_accuracies = []\n",
        "\n",
        "epochs = 30\n",
        "for epoch in range(epochs):\n",
        "    model.train()\n",
        "    train_loss = 0\n",
        "    train_acc = 0\n",
        "    # start_t = 0\n",
        "    # end_t = 0\n",
        "    # epoch_t = 0\n",
        "    # start_t = time.time()\n",
        "    for i, data in enumerate(trainloader, 0):\n",
        "        inputs, labels = data\n",
        "        outputs = model(inputs)\n",
        "        loss = loss_func(outputs, labels)\n",
        "\n",
        "        optimizer.zero_grad()\n",
        "        loss.backward()\n",
        "        optimizer.step()\n",
        "\n",
        "        train_acc += (outputs.argmax(dim=1) == labels).type(torch.float).sum().item()\n",
        "        train_loss += loss.item()\n",
        "\n",
        "    train_acc /= len(trainloader.dataset)\n",
        "    train_loss /= len(trainloader)\n",
        "    train_accuracies.append(train_acc)\n",
        "    train_losses.append(train_loss)\n",
        "    # end_t = time.time()\n",
        "    # epoch_t = end_t - start_t  # time used for each epoch\n",
        "    print(f\"Epoch {epoch+1}/{epochs}, Train Loss: {train_loss:.4f}, Train Accuracy: {train_acc*100:.2f}%\")\n",
        "    # print(f'Time: {epoch_t:.2f} seconds')\n",
        "\n",
        "\n",
        "    model.eval()\n",
        "    total = 0\n",
        "    val_loss = 0\n",
        "    val_acc = 0\n",
        "    with torch.no_grad():\n",
        "        for data in valloader:\n",
        "            images, labels = data\n",
        "            outputs = model(images)\n",
        "            loss = loss_func(outputs, labels)\n",
        "\n",
        "            total += labels.size(0)\n",
        "            val_acc += (outputs.argmax(1) == labels).type(torch.float).sum().item()\n",
        "            val_loss += loss.item()\n",
        "\n",
        "    val_acc /= len(valloader.dataset)\n",
        "    val_loss /= len(valloader)\n",
        "    val_accuracies.append(val_acc)\n",
        "    val_losses.append(val_loss)\n",
        "    print(f\"Validation Loss: {val_loss:.4f}, Validation Accuracy: {val_acc*100:.2f}%\")"
      ],
      "metadata": {
        "id": "TbrhB0ufhDDL",
        "colab": {
          "base_uri": "https://localhost:8080/"
        },
        "outputId": "c47b23aa-f25d-4fae-ad5a-14e550e84aa2"
      },
      "execution_count": 10,
      "outputs": [
        {
          "output_type": "stream",
          "name": "stdout",
          "text": [
            "Epoch 1/30, Train Loss: 1.0168, Train Accuracy: 50.98%\n",
            "Validation Loss: 0.9374, Validation Accuracy: 52.97%\n",
            "Epoch 2/30, Train Loss: 0.9467, Train Accuracy: 53.30%\n",
            "Validation Loss: 0.9237, Validation Accuracy: 56.56%\n",
            "Epoch 3/30, Train Loss: 0.9333, Train Accuracy: 54.63%\n",
            "Validation Loss: 0.8979, Validation Accuracy: 57.50%\n",
            "Epoch 4/30, Train Loss: 0.9065, Train Accuracy: 56.17%\n",
            "Validation Loss: 0.8754, Validation Accuracy: 60.00%\n",
            "Epoch 5/30, Train Loss: 0.8850, Train Accuracy: 57.54%\n",
            "Validation Loss: 0.8685, Validation Accuracy: 59.69%\n",
            "Epoch 6/30, Train Loss: 0.8609, Train Accuracy: 59.26%\n",
            "Validation Loss: 0.8271, Validation Accuracy: 62.66%\n",
            "Epoch 7/30, Train Loss: 0.8212, Train Accuracy: 61.99%\n",
            "Validation Loss: 0.8195, Validation Accuracy: 61.41%\n",
            "Epoch 8/30, Train Loss: 0.7824, Train Accuracy: 63.98%\n",
            "Validation Loss: 0.7432, Validation Accuracy: 68.75%\n",
            "Epoch 9/30, Train Loss: 0.7337, Train Accuracy: 66.25%\n",
            "Validation Loss: 0.7001, Validation Accuracy: 69.84%\n",
            "Epoch 10/30, Train Loss: 0.6748, Train Accuracy: 70.31%\n",
            "Validation Loss: 0.6487, Validation Accuracy: 70.78%\n",
            "Epoch 11/30, Train Loss: 0.6186, Train Accuracy: 73.32%\n",
            "Validation Loss: 0.5719, Validation Accuracy: 76.88%\n",
            "Epoch 12/30, Train Loss: 0.5525, Train Accuracy: 76.99%\n",
            "Validation Loss: 0.5349, Validation Accuracy: 76.88%\n",
            "Epoch 13/30, Train Loss: 0.4962, Train Accuracy: 80.25%\n",
            "Validation Loss: 0.4538, Validation Accuracy: 81.41%\n",
            "Epoch 14/30, Train Loss: 0.4277, Train Accuracy: 82.54%\n",
            "Validation Loss: 0.4283, Validation Accuracy: 81.72%\n",
            "Epoch 15/30, Train Loss: 0.3728, Train Accuracy: 84.90%\n",
            "Validation Loss: 0.3422, Validation Accuracy: 86.09%\n",
            "Epoch 16/30, Train Loss: 0.3271, Train Accuracy: 87.17%\n",
            "Validation Loss: 0.3110, Validation Accuracy: 90.00%\n",
            "Epoch 17/30, Train Loss: 0.2861, Train Accuracy: 88.63%\n",
            "Validation Loss: 0.2775, Validation Accuracy: 90.16%\n",
            "Epoch 18/30, Train Loss: 0.2539, Train Accuracy: 90.49%\n",
            "Validation Loss: 0.2723, Validation Accuracy: 90.78%\n",
            "Epoch 19/30, Train Loss: 0.2205, Train Accuracy: 91.46%\n",
            "Validation Loss: 0.2074, Validation Accuracy: 92.50%\n",
            "Epoch 20/30, Train Loss: 0.1979, Train Accuracy: 92.68%\n",
            "Validation Loss: 0.2132, Validation Accuracy: 93.12%\n",
            "Epoch 21/30, Train Loss: 0.1771, Train Accuracy: 93.18%\n",
            "Validation Loss: 0.1750, Validation Accuracy: 93.91%\n",
            "Epoch 22/30, Train Loss: 0.1468, Train Accuracy: 94.53%\n",
            "Validation Loss: 0.1574, Validation Accuracy: 94.06%\n",
            "Epoch 23/30, Train Loss: 0.1313, Train Accuracy: 95.00%\n",
            "Validation Loss: 0.1433, Validation Accuracy: 95.78%\n",
            "Epoch 24/30, Train Loss: 0.1256, Train Accuracy: 95.57%\n",
            "Validation Loss: 0.1269, Validation Accuracy: 95.78%\n",
            "Epoch 25/30, Train Loss: 0.1155, Train Accuracy: 95.49%\n",
            "Validation Loss: 0.1159, Validation Accuracy: 96.09%\n",
            "Epoch 26/30, Train Loss: 0.1072, Train Accuracy: 96.29%\n",
            "Validation Loss: 0.1183, Validation Accuracy: 96.25%\n",
            "Epoch 27/30, Train Loss: 0.0993, Train Accuracy: 96.43%\n",
            "Validation Loss: 0.1086, Validation Accuracy: 95.31%\n",
            "Epoch 28/30, Train Loss: 0.0921, Train Accuracy: 96.72%\n",
            "Validation Loss: 0.1283, Validation Accuracy: 95.62%\n",
            "Epoch 29/30, Train Loss: 0.0894, Train Accuracy: 96.60%\n",
            "Validation Loss: 0.1284, Validation Accuracy: 95.78%\n",
            "Epoch 30/30, Train Loss: 0.0762, Train Accuracy: 97.30%\n",
            "Validation Loss: 0.1132, Validation Accuracy: 95.31%\n"
          ]
        }
      ]
    },
    {
      "cell_type": "code",
      "source": [
        "# plot the loss and accuracy values over epochs\n",
        "\n",
        "epoch_range = range(epochs)\n",
        "\n",
        "plt.figure(figsize=(12, 3))\n",
        "plt.subplot(1, 2, 1)\n",
        "plt.plot(epoch_range, train_losses, label='Training Loss')\n",
        "plt.plot(epoch_range, val_losses, label='Validation Loss')\n",
        "plt.xlabel('Epochs')\n",
        "plt.ylabel('Losses')\n",
        "plt.title('Training and Validation Loss')\n",
        "plt.legend()\n",
        "\n",
        "plt.subplot(1, 2, 2)\n",
        "plt.plot(epoch_range, train_accuracies, label='Training Accuracy')\n",
        "plt.plot(epoch_range, val_accuracies, label='Validation Accuracy')\n",
        "plt.xlabel('Epochs')\n",
        "plt.ylabel('Accuracies')\n",
        "plt.title('Training and Validation Accuracy')\n",
        "plt.legend()\n",
        "plt.show()"
      ],
      "metadata": {
        "colab": {
          "base_uri": "https://localhost:8080/",
          "height": 333
        },
        "id": "YhlDhy5jrCi2",
        "outputId": "296a9aa6-32e7-4aa1-8b6c-aaf2c79f02a9"
      },
      "execution_count": 11,
      "outputs": [
        {
          "output_type": "display_data",
          "data": {
            "text/plain": [
              "<Figure size 1200x300 with 2 Axes>"
            ],
            "image/png": "[encoded data removed]"
          },
          "metadata": {}
        }
      ]
    },
    {
      "cell_type": "code",
      "source": [
        "# prediction for each category\n",
        "class_correct = [0. for _ in range(len(categories))]\n",
        "class_total = [0. for _ in range(len(categories))]\n",
        "\n",
        "y_preds = []\n",
        "y_true = []\n",
        "\n",
        "correct = 0\n",
        "total = 0\n",
        "\n",
        "model.eval()\n",
        "with torch.no_grad():\n",
        "    for data in testloader:\n",
        "        images, labels = data\n",
        "        outputs = model(images)\n",
        "        _, predicted = torch.max(outputs.data, 1)\n",
        "\n",
        "        correct += (predicted == labels).sum().item()\n",
        "        c = (predicted == labels).squeeze()\n",
        "        total += labels.size(0)\n",
        "\n",
        "        y_preds.append(predicted.numpy())\n",
        "        y_true.append(labels.numpy())\n",
        "        for i in range(len(labels)):\n",
        "            label = labels[i]\n",
        "            class_correct[label] += c[i].item()\n",
        "            class_total[label] += 1\n",
        "\n",
        "    for i in range(len(categories)):\n",
        "        print(f'Accuracy of {categories[i]} : {100 * class_correct[i] / class_total[i]:.2f} %')\n",
        "\n",
        "print(f'Accuracy: {100*correct//total}%')"
      ],
      "metadata": {
        "colab": {
          "base_uri": "https://localhost:8080/"
        },
        "id": "821eRgdSrOgw",
        "outputId": "3430e236-196b-4566-a994-d52c5d1ae9f0"
      },
      "execution_count": 12,
      "outputs": [
        {
          "output_type": "stream",
          "name": "stdout",
          "text": [
            "Accuracy of Very_Mild_Demented : 91.40 %\n",
            "Accuracy of Moderate_Demented : 87.50 %\n",
            "Accuracy of Mild_Demented : 96.10 %\n",
            "Accuracy of Non_Demented : 98.27 %\n",
            "Accuracy: 96%\n"
          ]
        }
      ]
    }
  ]
}